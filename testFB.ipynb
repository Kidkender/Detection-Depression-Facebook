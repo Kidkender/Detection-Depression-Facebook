{
 "cells": [
  {
   "cell_type": "code",
   "execution_count": 11,
   "metadata": {},
   "outputs": [],
   "source": [
    "#imports here\n",
    "\n",
    "from bs4 import BeautifulSoup\n",
    "from selenium import webdriver\n",
    "import time\n",
    "from selenium.webdriver.chrome.service import Service\n",
    "from selenium.webdriver.common.by import By"
   ]
  },
  {
   "cell_type": "code",
   "execution_count": 12,
   "metadata": {},
   "outputs": [],
   "source": [
    "url = 'https://www.facebook.com'\n",
    "\n",
    "\n",
    "s = Service(\"C:\\\\Users\\\\DELL\\\\chromedriver.exe\")\n",
    "driver = webdriver.Chrome(service=s)\n",
    "driver.get(url)\n",
    "\n",
    "email = driver.find_element(by=By.NAME,value=\"email\")\n",
    "pswrd = driver.find_element(by=By.NAME,value=\"pass\")\n",
    "\n",
    "driver.get('https://mbasic.facebook.com/profile')\n",
    "\n",
    "pageContent = driver.page_source\n",
    "\n",
    "soup = BeautifulSoup(pageContent, 'html.parser')"
   ]
  },
  {
   "cell_type": "code",
   "execution_count": 4,
   "metadata": {},
   "outputs": [
    {
     "data": {
      "text/plain": [
       "5"
      ]
     },
     "execution_count": 4,
     "metadata": {},
     "output_type": "execute_result"
    }
   ],
   "source": [
    "[0,1,0,1,0,1,1,1].count(1)"
   ]
  },
  {
   "cell_type": "code",
   "execution_count": 13,
   "metadata": {},
   "outputs": [],
   "source": [
    "#program to parse user name who posted comment\n",
    "def Nameparse():\n",
    "    driver.get(url)\n",
    "    names = driver.find_elements(by=By.TAG_NAME,value='h3')\n",
    "    for name in names:\n",
    "        name=name.text\n",
    "        Name.append(name)"
   ]
  },
  {
   "cell_type": "code",
   "execution_count": 14,
   "metadata": {},
   "outputs": [],
   "source": [
    "#program to parse comments\n",
    "def Commentparse():\n",
    "    driver.get(url)\n",
    "    comments=driver.find_elements(by=By.CSS_SELECTOR,value=\"[class='eg']\") or driver.find_elements(by=By.CSS_SELECTOR,value=\"[class='ee']\") or driver.find_elements(by=By.CSS_SELECTOR,value=\"[class='ed']\")\n",
    "    for comment in comments:\n",
    "        comment=comment.text\n",
    "        Comment.append(comment)"
   ]
  },
  {
   "cell_type": "code",
   "execution_count": 15,
   "metadata": {},
   "outputs": [
    {
     "name": "stdout",
     "output_type": "stream",
     "text": [
      "['Rồng Thần Huyền Thoại', 'Nguyễn Gia Huy', 'Hoàn Phạm', 'Trần Nobii', 'Huỳnh Tô Hải Đăng', 'Phạm Hữu Nhơn', 'Trần Quang', 'Khoa Tominh', 'Huy Nguyễn', 'Nguyễn Thanh Hải', 'Hiển Nguyễn']\n",
      "['Mong bulma lâu lâu hãy ra sự kiện web ạ chứ nhanh quá k có kc tiêu 🤣', 'Fc quà 50k mem bulma ơi', 'Khong có code fc ta', 'Fc', 'Thứ ae tôi cần là sk web 🤭', 'Fan cứng', 'Fc', 'Fc', 'fc', 'Hết cái chơi']\n",
      "https://mbasic.facebook.com/story.php?story_fbid=317380303920457&id=110703284588161&p=0\n"
     ]
    }
   ],
   "source": [
    "#Program to scrap comments from each page\n",
    "Name=[]\n",
    "Comment=[]\n",
    "cnt=0\n",
    "#program to parse comments from 5 pages, if you want comments from all pages then use while loop\n",
    "for i in range(1):\n",
    "#while True:\n",
    "    url=(\"https://mbasic.facebook.com/story.php?story_fbid=317380303920457&id=110703284588161&p=\")\n",
    "    url=url+str(cnt)\n",
    "    Nameparse()\n",
    "    print(Name)\n",
    "    Commentparse()\n",
    "    print(Comment)\n",
    "    print(url)\n",
    "    cnt=cnt+10  "
   ]
  },
  {
   "cell_type": "code",
   "execution_count": 16,
   "metadata": {},
   "outputs": [],
   "source": [
    "driver.get(\"https://mbasic.facebook.com/minh.khoa.9216778?_rdr#_\")\n",
    "names = driver.find_elements(by=By.XPATH,value=\"// a[contains(text(),'Toàn bộ tin')]\")\n",
    "names[0].click()"
   ]
  },
  {
   "cell_type": "code",
   "execution_count": 8,
   "metadata": {},
   "outputs": [
    {
     "name": "stdout",
     "output_type": "stream",
     "text": [
      "https://mbasic.facebook.com/story.php?story_fbid=3173743902870995&id=100007062480379&refid=17&_ft_=mf_story_key.3173743902870995%3Atop_level_post_id.3173743902870995%3Atl_objid.3173743902870995%3Acontent_owner_id_new.100007062480379%3Aoriginal_content_id.302009508790870%3Aoriginal_content_owner_id.110703284588161%3Athrowback_story_fbid.3173743902870995%3Apage_id.110703284588161%3Astory_location.4%3Aattached_story_attachment_style.photo%3Aott.AX-9EuhEi8uGwQdA%3Aattached_story_type.EntStatusCreationStory%3Aattached_story_attachment_type.MediaAttachment%3Apage_insights.%7B%22110703284588161%22%3A%7B%22page_id%22%3A110703284588161%2C%22page_id_type%22%3A%22page%22%2C%22actor_id%22%3A100007062480379%2C%22attached_story%22%3A%7B%22page_id%22%3A110703284588161%2C%22page_id_type%22%3A%22page%22%2C%22actor_id%22%3A110703284588161%2C%22dm%22%3A%7B%22isShare%22%3A0%2C%22originalPostOwnerID%22%3A0%7D%2C%22psn%22%3A%22EntStatusCreationStory%22%2C%22post_context%22%3A%7B%22object_fbtype%22%3A266%2C%22publish_time%22%3A1651136400%2C%22story_name%22%3A%22EntStatusCreationStory%22%2C%22story_fbid%22%3A%5B302009508790870%5D%7D%2C%22role%22%3A1%2C%22sl%22%3A4%7D%2C%22dm%22%3A%7B%22isShare%22%3A0%2C%22originalPostOwnerID%22%3A0%7D%2C%22psn%22%3A%22EntStatusCreationStory%22%2C%22role%22%3A1%2C%22sl%22%3A4%2C%22targets%22%3A%5B%7B%22actor_id%22%3A100007062480379%2C%22page_id%22%3A110703284588161%2C%22post_id%22%3A302009508790870%2C%22role%22%3A1%2C%22share_id%22%3A0%7D%5D%7D%7D%3Aprofile_id.100007062480379%3Aprofile_relationship_type.1%3Aactrs.100007062480379%3Atds_flgs.3%3Athid.100007062480379%3A306061129499414%3A2%3A0%3A1654066799%3A7654974506626018647%3A%3A%3Aftmd_400706.111111l&__tn__=%2AW-R#footer_action_list\n"
     ]
    }
   ],
   "source": [
    "print(str(driver.current_url))"
   ]
  },
  {
   "cell_type": "code",
   "execution_count": 9,
   "metadata": {},
   "outputs": [],
   "source": [
    "text = driver.current_url"
   ]
  },
  {
   "cell_type": "code",
   "execution_count": 18,
   "metadata": {},
   "outputs": [
    {
     "data": {
      "text/plain": [
       "'https://mbasic.facebook.com/story.php?story_fbid=3173743902870995&id=100007062480379'"
      ]
     },
     "execution_count": 18,
     "metadata": {},
     "output_type": "execute_result"
    }
   ],
   "source": [
    "text.split(\"&\")[0]+\"&\"+text.split(\"&\")[1]"
   ]
  },
  {
   "cell_type": "code",
   "execution_count": 9,
   "metadata": {},
   "outputs": [
    {
     "name": "stderr",
     "output_type": "stream",
     "text": [
      "c:\\Users\\DELL\\AppData\\Local\\Programs\\Python\\Python39\\lib\\site-packages\\sklearn\\base.py:329: UserWarning: Trying to unpickle estimator KNeighborsClassifier from version 1.1.1 when using version 1.0.2. This might lead to breaking code or invalid results. Use at your own risk. For more info please refer to:\n",
      "https://scikit-learn.org/stable/modules/model_persistence.html#security-maintainability-limitations\n",
      "  warnings.warn(\n",
      "c:\\Users\\DELL\\AppData\\Local\\Programs\\Python\\Python39\\lib\\site-packages\\sklearn\\base.py:329: UserWarning: Trying to unpickle estimator BernoulliNB from version 1.1.1 when using version 1.0.2. This might lead to breaking code or invalid results. Use at your own risk. For more info please refer to:\n",
      "https://scikit-learn.org/stable/modules/model_persistence.html#security-maintainability-limitations\n",
      "  warnings.warn(\n",
      "c:\\Users\\DELL\\AppData\\Local\\Programs\\Python\\Python39\\lib\\site-packages\\sklearn\\base.py:329: UserWarning: Trying to unpickle estimator LogisticRegression from version 1.1.1 when using version 1.0.2. This might lead to breaking code or invalid results. Use at your own risk. For more info please refer to:\n",
      "https://scikit-learn.org/stable/modules/model_persistence.html#security-maintainability-limitations\n",
      "  warnings.warn(\n",
      "c:\\Users\\DELL\\AppData\\Local\\Programs\\Python\\Python39\\lib\\site-packages\\sklearn\\base.py:329: UserWarning: Trying to unpickle estimator DecisionTreeClassifier from version 1.1.1 when using version 1.0.2. This might lead to breaking code or invalid results. Use at your own risk. For more info please refer to:\n",
      "https://scikit-learn.org/stable/modules/model_persistence.html#security-maintainability-limitations\n",
      "  warnings.warn(\n",
      "c:\\Users\\DELL\\AppData\\Local\\Programs\\Python\\Python39\\lib\\site-packages\\sklearn\\base.py:329: UserWarning: Trying to unpickle estimator RandomForestClassifier from version 1.1.1 when using version 1.0.2. This might lead to breaking code or invalid results. Use at your own risk. For more info please refer to:\n",
      "https://scikit-learn.org/stable/modules/model_persistence.html#security-maintainability-limitations\n",
      "  warnings.warn(\n",
      "c:\\Users\\DELL\\AppData\\Local\\Programs\\Python\\Python39\\lib\\site-packages\\sklearn\\base.py:329: UserWarning: Trying to unpickle estimator CountVectorizer from version 1.1.1 when using version 1.0.2. This might lead to breaking code or invalid results. Use at your own risk. For more info please refer to:\n",
      "https://scikit-learn.org/stable/modules/model_persistence.html#security-maintainability-limitations\n",
      "  warnings.warn(\n"
     ]
    }
   ],
   "source": [
    "\n",
    "import pickle\n",
    "from keras.models import load_model\n",
    "model_ANN = load_model(\"Sentiment-ANN.h5\")\n",
    "model_KNN = pickle.load(open(\"Sentiment-knn.pickle\", 'rb'))\n",
    "model_BNB = pickle.load(open(\"Sentiment-BNB.pickle\", 'rb'))\n",
    "model_LR = pickle.load(open(\"Sentiment-LR.pickle\", 'rb'))\n",
    "model_RF = pickle.load(open(\"Sentiment-RandomF.pickle\", 'rb'))\n",
    "tranfrom = pickle.load(open(\"tranfrom_text.pkl\", 'rb'))"
   ]
  },
  {
   "cell_type": "code",
   "execution_count": 6,
   "metadata": {},
   "outputs": [],
   "source": [
    "model = [model_ANN,model_KNN,model_BNB,model_LR,model_RF]"
   ]
  },
  {
   "cell_type": "code",
   "execution_count": 157,
   "metadata": {},
   "outputs": [],
   "source": [
    "text = ['Hum nay chia tay lớp ,pùn wa', 'Tuần này thở k ra hơi .Đủ việc']\n",
    "text = tranfrom.transform(text)\n",
    "_model = model[1]\n",
    "predict_status = _model.predict(text)"
   ]
  },
  {
   "cell_type": "code",
   "execution_count": 12,
   "metadata": {},
   "outputs": [],
   "source": [
    "model_ANN_time = load_model(\"model_ann_time.h5\")"
   ]
  },
  {
   "cell_type": "code",
   "execution_count": 18,
   "metadata": {},
   "outputs": [
    {
     "data": {
      "text/plain": [
       "array([[1.]], dtype=float32)"
      ]
     },
     "execution_count": 18,
     "metadata": {},
     "output_type": "execute_result"
    }
   ],
   "source": [
    "import numpy as np\n",
    "num=np.array([20,100])\n",
    "model_ANN_time.predict(num.reshape(1,2))"
   ]
  },
  {
   "cell_type": "code",
   "execution_count": 90,
   "metadata": {},
   "outputs": [],
   "source": [
    "timess = [np.array([int(x),100]) for x in ['20', '18', '18', '21', '17', '17', '22', '21', '22', '19']]\n",
    "timess = np.array(timess).reshape(len(timess),2)"
   ]
  },
  {
   "cell_type": "code",
   "execution_count": 91,
   "metadata": {},
   "outputs": [],
   "source": [
    "predict_time = model_ANN_time.predict(timess)"
   ]
  },
  {
   "cell_type": "code",
   "execution_count": 158,
   "metadata": {},
   "outputs": [],
   "source": [
    "text = [['U là tr', 'Ủaaaa'], [], ['Em cũng ngoan lắm á 👉🏻👈🏻'], [], ['Ố=)))'], ['Cầu nguyện cho con thi tốt đi là nó hông lỗ🤧'], ['Con mồn lèo này nguy hiểm lắm chú🥲'], ['Mai nấu'], ['Hay quá chị yêu'], []]\n",
    "while(text.__contains__([])):\n",
    "    text.remove([])\n",
    "predict_comment = [_model.predict(tranfrom.transform(x)) for x in text]"
   ]
  },
  {
   "cell_type": "code",
   "execution_count": 161,
   "metadata": {},
   "outputs": [
    {
     "data": {
      "text/plain": [
       "array([[1],\n",
       "       [1],\n",
       "       [1],\n",
       "       [1],\n",
       "       [1],\n",
       "       [1],\n",
       "       [1]], dtype=int64)"
      ]
     },
     "execution_count": 161,
     "metadata": {},
     "output_type": "execute_result"
    }
   ],
   "source": [
    "np.array(predict_comment)"
   ]
  },
  {
   "cell_type": "code",
   "execution_count": 160,
   "metadata": {},
   "outputs": [],
   "source": [
    "for idx in range(len(predict_comment)):\n",
    "    if(len(predict_comment[idx])>1):\n",
    "        if(np.array(predict_comment[idx]).tolist().count(1) > np.array(predict_comment[idx]).tolist().count(0)): \n",
    "            predict_comment[idx] = [1]\n",
    "        else:\n",
    "            predict_comment[idx] = [0]"
   ]
  },
  {
   "cell_type": "code",
   "execution_count": 162,
   "metadata": {},
   "outputs": [
    {
     "data": {
      "text/plain": [
       "[1, 1, 1, 1, 1, 1, 1]"
      ]
     },
     "execution_count": 162,
     "metadata": {},
     "output_type": "execute_result"
    }
   ],
   "source": [
    "[int(x) for x in np.array(predict_comment)]"
   ]
  },
  {
   "cell_type": "code",
   "execution_count": 127,
   "metadata": {},
   "outputs": [],
   "source": []
  },
  {
   "cell_type": "code",
   "execution_count": 128,
   "metadata": {},
   "outputs": [
    {
     "data": {
      "text/plain": [
       "[[[0.0]],\n",
       " array([1], dtype=int64),\n",
       " array([1], dtype=int64),\n",
       " array([1], dtype=int64),\n",
       " array([1], dtype=int64),\n",
       " array([1], dtype=int64),\n",
       " array([1], dtype=int64)]"
      ]
     },
     "execution_count": 128,
     "metadata": {},
     "output_type": "execute_result"
    }
   ],
   "source": [
    "predict_comment"
   ]
  },
  {
   "cell_type": "code",
   "execution_count": 129,
   "metadata": {},
   "outputs": [
    {
     "name": "stderr",
     "output_type": "stream",
     "text": [
      "C:\\Users\\DELL\\AppData\\Local\\Temp\\ipykernel_1048\\3619942791.py:1: VisibleDeprecationWarning: Creating an ndarray from ragged nested sequences (which is a list-or-tuple of lists-or-tuples-or ndarrays with different lengths or shapes) is deprecated. If you meant to do this, you must specify 'dtype=object' when creating the ndarray.\n",
      "  [int(x) for x in np.array(predict_comment)]\n"
     ]
    },
    {
     "ename": "TypeError",
     "evalue": "int() argument must be a string, a bytes-like object or a number, not 'list'",
     "output_type": "error",
     "traceback": [
      "\u001b[1;31m---------------------------------------------------------------------------\u001b[0m",
      "\u001b[1;31mTypeError\u001b[0m                                 Traceback (most recent call last)",
      "\u001b[1;32mc:\\Users\\DELL\\OneDrive - Ho Chi Minh city University of Food Industry\\Study\\Facebook\\test.ipynb Cell 22'\u001b[0m in \u001b[0;36m<cell line: 1>\u001b[1;34m()\u001b[0m\n\u001b[1;32m----> <a href='vscode-notebook-cell:/c%3A/Users/DELL/OneDrive%20-%20Ho%20Chi%20Minh%20city%20University%20of%20Food%20Industry/Study/Facebook/test.ipynb#ch0000021?line=0'>1</a>\u001b[0m [\u001b[39mint\u001b[39m(x) \u001b[39mfor\u001b[39;00m x \u001b[39min\u001b[39;00m np\u001b[39m.\u001b[39marray(predict_comment)]\n",
      "\u001b[1;32mc:\\Users\\DELL\\OneDrive - Ho Chi Minh city University of Food Industry\\Study\\Facebook\\test.ipynb Cell 22'\u001b[0m in \u001b[0;36m<listcomp>\u001b[1;34m(.0)\u001b[0m\n\u001b[1;32m----> <a href='vscode-notebook-cell:/c%3A/Users/DELL/OneDrive%20-%20Ho%20Chi%20Minh%20city%20University%20of%20Food%20Industry/Study/Facebook/test.ipynb#ch0000021?line=0'>1</a>\u001b[0m [\u001b[39mint\u001b[39;49m(x) \u001b[39mfor\u001b[39;00m x \u001b[39min\u001b[39;00m np\u001b[39m.\u001b[39marray(predict_comment)]\n",
      "\u001b[1;31mTypeError\u001b[0m: int() argument must be a string, a bytes-like object or a number, not 'list'"
     ]
    }
   ],
   "source": [
    "[int(x) for x in np.array(predict_comment)]"
   ]
  },
  {
   "cell_type": "code",
   "execution_count": 81,
   "metadata": {},
   "outputs": [
    {
     "data": {
      "text/plain": [
       "2"
      ]
     },
     "execution_count": 81,
     "metadata": {},
     "output_type": "execute_result"
    }
   ],
   "source": [
    "[int(x) for x in np.array(predict_time).reshape(-1)].count(1)"
   ]
  },
  {
   "cell_type": "code",
   "execution_count": null,
   "metadata": {},
   "outputs": [],
   "source": []
  }
 ],
 "metadata": {
  "interpreter": {
   "hash": "5addf786bcd861d1ce5006f23111f8cbb206731e5b61b0a5632ba9e0252558a8"
  },
  "kernelspec": {
   "display_name": "Python 3.9.6 64-bit",
   "language": "python",
   "name": "python3"
  },
  "language_info": {
   "codemirror_mode": {
    "name": "ipython",
    "version": 3
   },
   "file_extension": ".py",
   "mimetype": "text/x-python",
   "name": "python",
   "nbconvert_exporter": "python",
   "pygments_lexer": "ipython3",
   "version": "3.9.6"
  },
  "orig_nbformat": 4
 },
 "nbformat": 4,
 "nbformat_minor": 2
}
